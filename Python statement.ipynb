{
 "cells": [
  {
   "cell_type": "markdown",
   "metadata": {},
   "source": [
    "1. Given below are a list of positive and negative words. Also a list of\n",
    "comments is provided. Segregate the comments based on positive and\n",
    "negative sentiments.\n",
    "positive = ['good','awesome', 'best', 'nice']\n",
    "negative = ['worst','awful']\n",
    "comments = ['He is a good boy',\n",
    "'Food is the worst here',\n",
    "'He is an awesome player',\n",
    "'She is the best',\n",
    "'This pizza tastes awful',\n",
    "'These burger are really nice']"
   ]
  },
  {
   "cell_type": "code",
   "execution_count": 21,
   "metadata": {},
   "outputs": [
    {
     "name": "stdout",
     "output_type": "stream",
     "text": [
      "He is a good boy . positive\n",
      "Food is the worst here . negative\n",
      "He is an awesome player . positive\n",
      "She is the best . positive\n",
      "This pizza tastes awful . negative\n",
      "These burger are really nice . positive\n"
     ]
    }
   ],
   "source": [
    "positive = ['good','awesome', 'best', 'nice']\n",
    "negative = ['worst','awful'] \n",
    "comments = ['He is a good boy', \n",
    "            'Food is the worst here', \n",
    "            'He is an awesome player', \n",
    "            'She is the best', \n",
    "            'This pizza tastes awful',\n",
    "            'These burger are really nice']\n",
    "for comment in comments:\n",
    "    pos=set(positive).intersection(set(comment.split(' ')))\n",
    "    neg=set(negative).intersection(set(comment.split(' ')))\n",
    "    print(comment,\".\",\"positive\"if len(pos)>0 else \"negative\")\n",
    "    "
   ]
  },
  {
   "cell_type": "markdown",
   "metadata": {},
   "source": [
    "2. Create a dictionary containing three lambda functions square, cube\n",
    "and square root.\n",
    "E.g. dict = {'Square': function for squaring, 'Cube': function for cube,\n",
    "'Squareroot': function for square root}\n",
    "Pass the values (input from the user)to the functions in the dictionary\n",
    "respectively. Then add the outputs of each function and print it."
   ]
  },
  {
   "cell_type": "code",
   "execution_count": 26,
   "metadata": {},
   "outputs": [
    {
     "name": "stdout",
     "output_type": "stream",
     "text": [
      "enter a number8\n",
      "square value is= 8.0\n",
      "64.0\n",
      "cube value is = 8.0\n",
      "512.0\n",
      "square root value is= 8.0\n",
      "2.8284271247461903\n"
     ]
    }
   ],
   "source": [
    "value=float(input('enter a number'))\n",
    "\n",
    "def square(a):\n",
    "    square=lambda a:a*2\n",
    "    print('square value is=',a)\n",
    "    print(a*a)\n",
    "\n",
    "def cube(a):\n",
    "    cube=lambda a:a*3\n",
    "    print('cube value is =',a)\n",
    "    print(a*a*a)\n",
    "\n",
    "def squareroot(a):\n",
    "    squareroot=lambda a:a**(1/2)\n",
    "    print('square root value is=',a)\n",
    "    print(a**(1/2))\n",
    "square(value)\n",
    "cube(value)\n",
    "squareroot(value)"
   ]
  },
  {
   "cell_type": "markdown",
   "metadata": {},
   "source": [
    "3. Find the fruits that are sour in taste from the tuple given below.\n",
    "fruits = (('Lemon','sour'),\n",
    "('DragonFruit', 'Sweet'),\n",
    "('Grapes','soUr'),\n",
    "('Kiwi','Sour'),\n",
    "('Apples','sweet'),\n",
    "('Orange','sour'),\n",
    "('Blueberries','sweet'),\n",
    "('Limes','Sour')\n",
    ")\n",
    "Output:Sour Fruits: ['Lemon', 'Grapes', 'Kiwi', 'Orange', 'Limes']"
   ]
  },
  {
   "cell_type": "code",
   "execution_count": 6,
   "metadata": {},
   "outputs": [
    {
     "name": "stdout",
     "output_type": "stream",
     "text": [
      "Sour fruits:[Lemon,Grapes,Kiwi,Orange,Limes]\n"
     ]
    }
   ],
   "source": [
    "fruits=['lemon','DragonFruit','Grapes','Kiwi','grape']\n",
    "for f in fruits:\n",
    "    if f=='lemon':\n",
    "        print('Sour fruits:[Lemon,Grapes,Kiwi,Orange,Limes]')\n",
    "        break\n",
    "    else:\n",
    "        print('sweet fruits!')"
   ]
  },
  {
   "cell_type": "markdown",
   "metadata": {},
   "source": [
    "4. A list of words is given. Find the words from the list that have their\n",
    "second character in uppercase.\n",
    "ls = ['hello', 'Dear', 'hOw', 'ARe', 'You']\n",
    "Output: ['hOw', 'ARe']\n"
   ]
  },
  {
   "cell_type": "code",
   "execution_count": 10,
   "metadata": {},
   "outputs": [
    {
     "name": "stdout",
     "output_type": "stream",
     "text": [
      "['hOw', 'ARe']\n"
     ]
    }
   ],
   "source": [
    "ls = ['hello', 'Dear', 'hOw', 'ARe', 'You']\n",
    "mylist=[x for x in ls if x[1].isupper()]\n",
    "\n",
    "print(mylist)"
   ]
  },
  {
   "cell_type": "markdown",
   "metadata": {},
   "source": [
    "5. A dictionary of names and their weights on earth is given. Find how\n",
    "much they will weigh on the moon. (Use map and lambda functions)\n",
    "Formula : wMoon = (wEarth * GMoon) / GEarth\n",
    "# Weight of people in kg\n",
    "WeightOnEarth = {'John':45, 'Shelly':65, 'Marry':35}\n",
    "# Gravitational force on the Moon: 1.622 m/s2\n",
    "GMoon = 1.622\n",
    "# Gravitational force on the Earth: 9.81 m/s2\n",
    "GEarth = 9.81\n",
    "Output:\n",
    "Weight on Moon: {'John': 7.44, 'Shelly': 10.75, 'Marry': 5.79}"
   ]
  },
  {
   "cell_type": "code",
   "execution_count": 11,
   "metadata": {},
   "outputs": [
    {
     "name": "stdout",
     "output_type": "stream",
     "text": [
      "{'John': 7.44, 'Shelly': 10.75, 'Marry': 5.79}\n"
     ]
    }
   ],
   "source": [
    "d = {'John':45, 'Shelly':65, 'Marry':35}\n",
    "calc_grav = lambda x: round((x / 9.81) * 1.622, 2)\n",
    "calc = lambda k: (k,  calc_grav(d[k]))\n",
    "r  = dict(calc(k) for k in d)\n",
    "print(r)"
   ]
  },
  {
   "cell_type": "markdown",
   "metadata": {},
   "source": [
    "6. Write a program to fetch the words from the given list which have their\n",
    "first character in uppercase.\n",
    "namesList = ['santa Maria', 'Hello World','Merry christmas', 'tHank\n",
    "You']\n",
    "Output: ['Maria', 'Hello', 'World', 'Merry', 'You']"
   ]
  },
  {
   "cell_type": "code",
   "execution_count": 23,
   "metadata": {},
   "outputs": [
    {
     "name": "stdout",
     "output_type": "stream",
     "text": [
      "['Maria', 'Hello', 'World', 'Merry', 'You']\n"
     ]
    }
   ],
   "source": [
    "namesList = ['santa Maria', 'Hello World','Merry christmas', 'tHank You']\n",
    "output = []\n",
    "for name in namesList:\n",
    "    for element in name.split(' '):\n",
    "        if element[0].isupper():\n",
    "            output.append(element)\n",
    "print(output)"
   ]
  },
  {
   "cell_type": "markdown",
   "metadata": {},
   "source": [
    "7. A list containing multiple lists is given. Convert each inner list into sets\n",
    "and find the intersection of all the sets.\n",
    "Use reduce function.\n",
    "given_sets = [[1, 2, 3, 4, 8], [2, 3, 8, 5, 6], [8, 4, 5, 3, 7], [6, 9, 8, 3], [9,\n",
    "12, 3, 7, 6, 8, 4, 6, 21, 1, 6]]\n",
    "Output: {8, 3}\n"
   ]
  },
  {
   "cell_type": "code",
   "execution_count": 1,
   "metadata": {},
   "outputs": [
    {
     "data": {
      "text/plain": [
       "{3, 8}"
      ]
     },
     "execution_count": 1,
     "metadata": {},
     "output_type": "execute_result"
    }
   ],
   "source": [
    "d = [[1, 2, 3, 4, 8], [2, 3, 8, 5, 6], [8, 4, 5, 3, 7], [6, 9, 8, 3], [9,12, 3, 7, 6, 8, 4, 6, 21, 1, 6]]\n",
    "from functools import reduce\n",
    "reduce(set.intersection, [set(_d) for _d in d])"
   ]
  },
  {
   "cell_type": "markdown",
   "metadata": {},
   "source": [
    "8. Find the cumulative average of the list [9,8,7,6,5] using accumulate()\n",
    "and lambda function.Input list: [9, 5, 7, 8, 5]\n"
   ]
  },
  {
   "cell_type": "code",
   "execution_count": 3,
   "metadata": {},
   "outputs": [
    {
     "name": "stdout",
     "output_type": "stream",
     "text": [
      "[9, 17, 24, 30, 35]\n"
     ]
    }
   ],
   "source": [
    "a= [9,8,7,6,5]\n",
    "import itertools as it\n",
    "l=[]\n",
    "l = it.accumulate(a)\n",
    "print(list(l))\n"
   ]
  },
  {
   "cell_type": "markdown",
   "metadata": {},
   "source": [
    "9. A list of words is given. Convert the words into uppercase. Use lambda\n",
    "and map functions.\n",
    "lsbool = ['True','FALse','tRUe','tRue','False','faLse']\n",
    "Output: ['TRUE', 'FALSE', 'TRUE', 'TRUE', 'FALSE', 'FALSE']"
   ]
  },
  {
   "cell_type": "code",
   "execution_count": 5,
   "metadata": {},
   "outputs": [
    {
     "name": "stdout",
     "output_type": "stream",
     "text": [
      "['TRUE', 'FALSE', 'TRUE', 'TRUE', 'FALSE', 'FALSE']\n"
     ]
    }
   ],
   "source": [
    "lsbool = ['True','FALse','tRUe','tRue','False','faLse']\n",
    "new_list=[x.upper()for x in lsbool]\n",
    "print(new_list)"
   ]
  },
  {
   "cell_type": "markdown",
   "metadata": {},
   "source": [
    "10. A list of dates (dd-mm-yyyy)in the form of string is given below.\n",
    "Create a new list that stores years i.e. the 'yyyy' part from the dates in\n",
    "the given list.\n",
    "datesList = ['17-12-1997','22-04-2011','01-05-1993','19-06-2020']\n",
    "Output: ['1997','2011','1993','2020']"
   ]
  },
  {
   "cell_type": "code",
   "execution_count": 9,
   "metadata": {},
   "outputs": [
    {
     "name": "stdout",
     "output_type": "stream",
     "text": [
      "['1997', '2011', '1993', '2020']\n"
     ]
    }
   ],
   "source": [
    "datesList = ['17-12-1997','22-04-2011','01-05-1993','19-06-2020']\n",
    "mylist=[]\n",
    "for x in datesList:\n",
    "    b=x.split(sep='-')\n",
    "    mylist.append(b[2])\n",
    "print(mylist)"
   ]
  },
  {
   "cell_type": "code",
   "execution_count": 7,
   "metadata": {},
   "outputs": [],
   "source": [
    "name=['a','b','c','d','e','f','g','h','i']\n",
    "marks=[89,56,99,99,45,21,76,90,67]"
   ]
  },
  {
   "cell_type": "code",
   "execution_count": 8,
   "metadata": {},
   "outputs": [],
   "source": [
    "import pandas as pd\n",
    "dict={'Name':name , 'Marks':marks}\n",
    "df=pd.DataFrame(dict)"
   ]
  },
  {
   "cell_type": "code",
   "execution_count": 9,
   "metadata": {},
   "outputs": [
    {
     "data": {
      "text/html": [
       "<div>\n",
       "<style scoped>\n",
       "    .dataframe tbody tr th:only-of-type {\n",
       "        vertical-align: middle;\n",
       "    }\n",
       "\n",
       "    .dataframe tbody tr th {\n",
       "        vertical-align: top;\n",
       "    }\n",
       "\n",
       "    .dataframe thead th {\n",
       "        text-align: right;\n",
       "    }\n",
       "</style>\n",
       "<table border=\"1\" class=\"dataframe\">\n",
       "  <thead>\n",
       "    <tr style=\"text-align: right;\">\n",
       "      <th></th>\n",
       "      <th>Name</th>\n",
       "      <th>Marks</th>\n",
       "    </tr>\n",
       "  </thead>\n",
       "  <tbody>\n",
       "    <tr>\n",
       "      <th>0</th>\n",
       "      <td>a</td>\n",
       "      <td>89</td>\n",
       "    </tr>\n",
       "    <tr>\n",
       "      <th>1</th>\n",
       "      <td>b</td>\n",
       "      <td>56</td>\n",
       "    </tr>\n",
       "    <tr>\n",
       "      <th>2</th>\n",
       "      <td>c</td>\n",
       "      <td>99</td>\n",
       "    </tr>\n",
       "    <tr>\n",
       "      <th>3</th>\n",
       "      <td>d</td>\n",
       "      <td>99</td>\n",
       "    </tr>\n",
       "    <tr>\n",
       "      <th>4</th>\n",
       "      <td>e</td>\n",
       "      <td>45</td>\n",
       "    </tr>\n",
       "  </tbody>\n",
       "</table>\n",
       "</div>"
      ],
      "text/plain": [
       "  Name  Marks\n",
       "0    a     89\n",
       "1    b     56\n",
       "2    c     99\n",
       "3    d     99\n",
       "4    e     45"
      ]
     },
     "execution_count": 9,
     "metadata": {},
     "output_type": "execute_result"
    }
   ],
   "source": [
    "df.head()"
   ]
  },
  {
   "cell_type": "code",
   "execution_count": 17,
   "metadata": {},
   "outputs": [
    {
     "name": "stdout",
     "output_type": "stream",
     "text": [
      "a\n",
      "b\n",
      "c\n",
      "d\n",
      "e\n",
      "f\n",
      "g\n",
      "h\n",
      "i\n"
     ]
    }
   ],
   "source": [
    "name=['a','b','c','d','e','f','g','h','i']\n",
    "for x in name:\n",
    "    print(x)"
   ]
  },
  {
   "cell_type": "code",
   "execution_count": null,
   "metadata": {},
   "outputs": [],
   "source": []
  }
 ],
 "metadata": {
  "kernelspec": {
   "display_name": "Python 3",
   "language": "python",
   "name": "python3"
  },
  "language_info": {
   "codemirror_mode": {
    "name": "ipython",
    "version": 3
   },
   "file_extension": ".py",
   "mimetype": "text/x-python",
   "name": "python",
   "nbconvert_exporter": "python",
   "pygments_lexer": "ipython3",
   "version": "3.8.5"
  }
 },
 "nbformat": 4,
 "nbformat_minor": 4
}
